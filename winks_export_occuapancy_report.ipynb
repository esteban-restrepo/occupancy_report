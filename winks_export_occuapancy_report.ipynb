{
 "cells": [
  {
   "cell_type": "markdown",
   "metadata": {},
   "source": [
    "### Webscaping winks hotels"
   ]
  },
  {
   "cell_type": "code",
   "execution_count": 51,
   "metadata": {},
   "outputs": [],
   "source": [
    "import io\n",
    "import requests\n",
    "from bs4 import BeautifulSoup\n",
    "from datetime import date, datetime\n",
    "from dateutil.relativedelta import relativedelta\n",
    "import yaml\n",
    "import pandas as pd"
   ]
  },
  {
   "cell_type": "markdown",
   "metadata": {},
   "source": [
    "Defino el diccionario de configuración"
   ]
  },
  {
   "cell_type": "code",
   "execution_count": 52,
   "metadata": {},
   "outputs": [],
   "source": [
    "try:\n",
    "    with open('config.yaml', 'r') as ymlfile:\n",
    "        cfg = yaml.safe_load(ymlfile)\n",
    "except yaml.YAMLError as error:\n",
    "    print('Config file error')\n",
    "    exit"
   ]
  },
  {
   "cell_type": "markdown",
   "metadata": {},
   "source": [
    "Leo la pagina del login de winks para saber el token"
   ]
  },
  {
   "cell_type": "code",
   "execution_count": 53,
   "metadata": {},
   "outputs": [],
   "source": [
    "#creo el objeto de session\n",
    "s = requests.session()\n",
    "#abro la pagina de login\n",
    "req = s.get(cfg['login']['url'])\n",
    "#parseo la pagina web del login\n",
    "html = BeautifulSoup(req.text, 'html.parser')\n",
    "#busco el token para el loggin\n",
    "token = html.find('input', {'name': 'authenticity_token'}).attrs['value']"
   ]
  },
  {
   "cell_type": "markdown",
   "metadata": {},
   "source": [
    "Genero el requerimiento de logueo"
   ]
  },
  {
   "cell_type": "code",
   "execution_count": 54,
   "metadata": {},
   "outputs": [
    {
     "name": "stdout",
     "output_type": "stream",
     "text": [
      "Succesful login\n"
     ]
    }
   ],
   "source": [
    "#genero el diccionario con el payload\n",
    "payload = {\n",
    "\t'utf8': '✓', \n",
    "    'authenticity_token': token, \n",
    "\t'user[login]': cfg['login']['user'], \n",
    "\t'user[password]': cfg['login']['password'],\n",
    "    'commit': 'Iniciar Sesión'\n",
    "}\n",
    "#intento el login\n",
    "req = s.post(cfg['login']['url'], data = payload)\n",
    "#valido la respuesta que esté bien\n",
    "if req.status_code == 200:\n",
    "    #valido que el login fuera correcto\n",
    "    html = BeautifulSoup(req.text, 'html.parser')\n",
    "    found_div = html.find('div', {'class': 'error'})\n",
    "    if found_div != None:\n",
    "        #como encuentra error se muestra el error\n",
    "        found_div = found_div.find('div').contents\n",
    "        print(found_div[0])\n",
    "        exit\n",
    "    else:\n",
    "        #Ejecuto el login\n",
    "        print('Succesful login')\n",
    "else:\n",
    "    print('Request login failed with status code: ' + req.status_code)\n"
   ]
  },
  {
   "cell_type": "markdown",
   "metadata": {},
   "source": [
    "Defino el payload para la generación del reporte"
   ]
  },
  {
   "cell_type": "code",
   "execution_count": 55,
   "metadata": {},
   "outputs": [],
   "source": [
    "#defino el inicio de las fecha\n",
    "dte_from = date.today() + relativedelta(months = cfg['data_range']['past_months'], day = 1)\n",
    "#defno el fin de las fecha\n",
    "dte_to = date.today() + relativedelta(months = cfg['data_range']['future_months'], day = 31)\n",
    "#armo el diccionario con el request\n",
    "payload = {\n",
    "    'from' : dte_from.strftime('%Y/%m/%d'),\n",
    "    'to' : dte_to.strftime('%Y/%m/%d'),\n",
    "    'include_cancelations' : cfg['filters']['include_cancelations'],\n",
    "    'include_tentatives' : cfg['filters']['include_tentatives'],\n",
    "    'include_taxes' : cfg['filters']['include_taxes'],\n",
    "    'group_by' : cfg['filters']['group_by'],\n",
    "    'revenue_type' : cfg['filters']['revenue_type'],\n",
    "    'use_original_layout' : cfg['filters']['use_original_layout'],\n",
    "    'show_revpar_information' : cfg['filters']['show_revpar_information']\n",
    "}"
   ]
  },
  {
   "cell_type": "markdown",
   "metadata": {},
   "source": [
    "Recorro los hoteles y guardo el reporte de excel"
   ]
  },
  {
   "cell_type": "code",
   "execution_count": 56,
   "metadata": {},
   "outputs": [],
   "source": [
    "#defino el indice del archivo\n",
    "index = 0\n",
    "#recorro todo el diccionario para guardar archivos por cada hotel\n",
    "for id_hotel in cfg['hotels']:\n",
    "    #actualizo el hotel del payload\n",
    "    payload['accommodation_ids[]'] = [id_hotel]\n",
    "    #actualizo la moneda del payload\n",
    "    payload['currency_id'] = cfg['hotels'][id_hotel]['currency']\n",
    "    #genero el request\n",
    "    req = s.get('https://pms.winks.com.ar/occupancy_reports/summary.csv', params = payload)\n",
    "    #valido que quiera archivos separados o que esté consolidado\n",
    "    if cfg['consolidated'] == 'true':\n",
    "        #como lo quiero consolidado recorro el archivo pero primero lo debo convertir en tipo archivo el streaming\n",
    "        file = io.BytesIO(req.content)\n",
    "        #valido que sea el index 1 para crear el dataframe\n",
    "        if index == 0:\n",
    "            df = pd.io.excel.read_excel(file, sheet_name=None)\n",
    "        #como ya no es el primero entonces lo concateno con los anteriores\n",
    "        else:\n",
    "            for sheet in df:\n",
    "                df[sheet] = pd.concat([df[sheet], pd.io.excel.read_excel(file, sheet_name=sheet)], ignore_index=True)\n",
    "    else:\n",
    "        #abro_archivo\n",
    "        file = open(cfg['download_path'] + 'report_file_' + cfg['hotels'][id_hotel]['name'] + '_' + datetime.now().strftime('%Y%m%d_%H%M%S') + '.xlsx', mode = 'wb')\n",
    "        #como no lo quiero consolidado guardo el archivo\n",
    "        file.write(req.content)\n",
    "        #cierro el archivo\n",
    "        file.close()\n",
    "    #adelanto el indice\n",
    "    index += 1\n",
    "#valido nuevamente que quiera el archivo consolidado para guardarlo\n",
    "if cfg['consolidated'] == 'true':\n",
    "    writer = pd.ExcelWriter(cfg['download_path'] + 'report_file_consolidated_' + datetime.now().strftime('%Y%m%d_%H%M%S') + '.xlsx', engine = 'openpyxl')   \n",
    "    for sheet in df:\n",
    "        df[sheet].to_excel(writer, sheet_name=sheet, index=False)   \n",
    "    writer.close()"
   ]
  }
 ],
 "metadata": {
  "kernelspec": {
   "display_name": "Python 3",
   "language": "python",
   "name": "python3"
  },
  "language_info": {
   "codemirror_mode": {
    "name": "ipython",
    "version": 3
   },
   "file_extension": ".py",
   "mimetype": "text/x-python",
   "name": "python",
   "nbconvert_exporter": "python",
   "pygments_lexer": "ipython3",
   "version": "3.12.0"
  }
 },
 "nbformat": 4,
 "nbformat_minor": 2
}
